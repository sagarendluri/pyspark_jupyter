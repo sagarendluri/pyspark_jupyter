{
 "cells": [
  {
   "cell_type": "markdown",
   "metadata": {},
   "source": [
    "<div style=\"margin: 0px auto; width: 600px;\">\n",
    "<img src=\"http://www.canadastop100.com/national/images/ct2017_english.png\" style=\"float: left; height: 100px; margin-top: 10px;\"/>\n",
    "<img src=\"https://cdn4.iconfinder.com/data/icons/wirecons-free-vector-icons/32/add-128.png\" style=\"float: left; margin: 25px; height: 50px;\"/>\n",
    "<img src=\"https://freepythontips.files.wordpress.com/2013/07/python_logo_notext.png\" style=\"float: left; height: 100px;\"/>\n",
    "<img src=\"https://cdn4.iconfinder.com/data/icons/wirecons-free-vector-icons/32/add-128.png\" style=\"float: left; margin: 25px; height: 50px;\"/>\n",
    "<img src=\"https://vuejs.org/images/logo.png\" style=\"float: left; height: 100px; margin-top: 10px;\"/>\n",
    "</div>"
   ]
  },
  {
   "cell_type": "markdown",
   "metadata": {},
   "source": [
    "## Objectives\n",
    "* Generate data using webcrawling with requests from [Canada's Top 100](http://www.canadastop100.com).\n",
    "* Use of Scrapy\n",
    "* Use of Pandas\n",
    "* Integrate VueJS in a notebook\n",
    "* Create simple table with filter functionality"
   ]
  },
  {
   "cell_type": "markdown",
   "metadata": {},
   "source": [
    "## Scraping data\n",
    "### Approach\n",
    "To scrape the data, we will use the Scrapy library. Instead of writing our own scrapers, it is faster for this tutorial to simply use a proper library.\n",
    "\n",
    "1. Load the main page\n",
    "2. Find all company links\n",
    "3. For each company link, open the corresponding page\n",
    "4. For each company page, find all ratings\n",
    "\n",
    "### Markup for companies links\n",
    "```html\n",
    "<div id=\"winners\" class=\"page-section\">\n",
    "...\n",
    "  <li><span><a target=\"_blank\" href=\"http://content.eluta.ca/top-employer-3m-canada\">3M Canada Company</a></span></li>\n",
    "...\n",
    "</div>\n",
    "```\n",
    "This corresponds with the Python code from the CompanySpider class:\n",
    "```python\n",
    "for href in response.css('div#winners a::attr(href)').extract():\n",
    "```\n",
    "\n",
    "### Markup for ratings\n",
    "\n",
    "```html\n",
    "<h3 class=\"rating-row\">\n",
    "    <span class=\"nocolor\">Physical Workplace</span>\n",
    "    <span class=\"rating\">\n",
    "        <span class=\"score\" title=\"Great-West Life Assurance Company, The's physical workplace is rated as exceptional. \">A+</span>\n",
    "    </span>\n",
    "</h3>\n",
    "```"
   ]
  },
  {
   "cell_type": "code",
   "execution_count": 1,
   "metadata": {},
   "outputs": [],
   "source": [
    "import logging\n",
    "import scrapy\n",
    "from scrapy.crawler import CrawlerProcess\n",
    "\n",
    "class CompanySpider(scrapy.Spider):\n",
    "    name = \"companies\"\n",
    "    start_urls = [\n",
    "        \"http://www.canadastop100.com/national/\"\n",
    "    ]\n",
    "    custom_settings = {\n",
    "        'LOG_LEVEL': logging.CRITICAL,\n",
    "        'FEED_FORMAT':'json',               \n",
    "        'FEED_URI': 'canadastop100.json' \n",
    "    }\n",
    "    \n",
    "    def parse(self, response):\n",
    "        for href in response.css('div#winners a::attr(href)').extract():\n",
    "            yield scrapy.Request(response.urljoin(href),\n",
    "                                 callback=self.parse_company)\n",
    "            \n",
    "    def parse_company(self, response):\n",
    "        name = response.css('div.side-panel-wrap div.widget h4::text').extract_first()\n",
    "        for rating in response.css('h3.rating-row')[1:]:\n",
    "            yield {\n",
    "                'name': name,\n",
    "                'title': rating.css('span.nocolor::text').extract_first(),\n",
    "                'value': rating.css('span.rating span.score::text').extract_first(),\n",
    "            }"
   ]
  },
  {
   "cell_type": "code",
   "execution_count": 2,
   "metadata": {},
   "outputs": [],
   "source": [
    "rm canadastop100.json"
   ]
  },
  {
   "cell_type": "code",
   "execution_count": 3,
   "metadata": {
    "scrolled": true
   },
   "outputs": [
    {
     "name": "stderr",
     "output_type": "stream",
     "text": [
      "2020-04-19 01:07:38 [scrapy.utils.log] INFO: Scrapy 1.8.0 started (bot: scrapybot)\n",
      "2020-04-19 01:07:38 [scrapy.utils.log] INFO: Versions: lxml 4.4.2.0, libxml2 2.9.9, cssselect 1.1.0, parsel 1.5.2, w3lib 1.21.0, Twisted 19.10.0, Python 3.7.3 | packaged by conda-forge | (default, Jul  1 2019, 21:52:21) - [GCC 7.3.0], pyOpenSSL 19.1.0 (OpenSSL 1.1.1d  10 Sep 2019), cryptography 2.8, Platform Linux-4.19.76-linuxkit-x86_64-with-debian-buster-sid\n",
      "2020-04-19 01:07:38 [scrapy.crawler] INFO: Overridden settings: {'FEED_FORMAT': 'json', 'FEED_URI': 'canadastop100.json', 'LOG_LEVEL': 50, 'USER_AGENT': 'Mozilla/4.0 (compatible; MSIE 7.0; Windows NT 5.1)'}\n"
     ]
    }
   ],
   "source": [
    "process = CrawlerProcess({\n",
    "    'USER_AGENT': 'Mozilla/4.0 (compatible; MSIE 7.0; Windows NT 5.1)'\n",
    "})\n",
    "\n",
    "process.crawl(CompanySpider)\n",
    "process.start()"
   ]
  },
  {
   "cell_type": "markdown",
   "metadata": {},
   "source": [
    "## Preparing data"
   ]
  },
  {
   "cell_type": "code",
   "execution_count": 4,
   "metadata": {},
   "outputs": [],
   "source": [
    "import pandas as pd"
   ]
  },
  {
   "cell_type": "code",
   "execution_count": 5,
   "metadata": {},
   "outputs": [
    {
     "data": {
      "text/html": [
       "<div>\n",
       "<style scoped>\n",
       "    .dataframe tbody tr th:only-of-type {\n",
       "        vertical-align: middle;\n",
       "    }\n",
       "\n",
       "    .dataframe tbody tr th {\n",
       "        vertical-align: top;\n",
       "    }\n",
       "\n",
       "    .dataframe thead th {\n",
       "        text-align: right;\n",
       "    }\n",
       "</style>\n",
       "<table border=\"1\" class=\"dataframe\">\n",
       "  <thead>\n",
       "    <tr style=\"text-align: right;\">\n",
       "      <th></th>\n",
       "      <th>name</th>\n",
       "      <th>title</th>\n",
       "      <th>value</th>\n",
       "    </tr>\n",
       "  </thead>\n",
       "  <tbody>\n",
       "    <tr>\n",
       "      <th>0</th>\n",
       "      <td>3M Canada Company</td>\n",
       "      <td>Physical Workplace</td>\n",
       "      <td>A+</td>\n",
       "    </tr>\n",
       "    <tr>\n",
       "      <th>1</th>\n",
       "      <td>3M Canada Company</td>\n",
       "      <td>Work Atmosphere &amp; Communications</td>\n",
       "      <td>A+</td>\n",
       "    </tr>\n",
       "    <tr>\n",
       "      <th>2</th>\n",
       "      <td>3M Canada Company</td>\n",
       "      <td>Financial Benefits &amp; Compensation</td>\n",
       "      <td>A</td>\n",
       "    </tr>\n",
       "    <tr>\n",
       "      <th>3</th>\n",
       "      <td>3M Canada Company</td>\n",
       "      <td>Health &amp; Family-Friendly Benefits</td>\n",
       "      <td>A</td>\n",
       "    </tr>\n",
       "    <tr>\n",
       "      <th>4</th>\n",
       "      <td>3M Canada Company</td>\n",
       "      <td>Vacation &amp; Personal Time-Off</td>\n",
       "      <td>B</td>\n",
       "    </tr>\n",
       "  </tbody>\n",
       "</table>\n",
       "</div>"
      ],
      "text/plain": [
       "                name                              title value\n",
       "0  3M Canada Company                 Physical Workplace    A+\n",
       "1  3M Canada Company   Work Atmosphere & Communications    A+\n",
       "2  3M Canada Company  Financial Benefits & Compensation     A\n",
       "3  3M Canada Company  Health & Family-Friendly Benefits     A\n",
       "4  3M Canada Company       Vacation & Personal Time-Off     B"
      ]
     },
     "execution_count": 5,
     "metadata": {},
     "output_type": "execute_result"
    }
   ],
   "source": [
    "df = pd.read_json('canadastop100.json')\n",
    "df.head()"
   ]
  },
  {
   "cell_type": "code",
   "execution_count": 6,
   "metadata": {},
   "outputs": [
    {
     "data": {
      "text/plain": [
       "53"
      ]
     },
     "execution_count": 6,
     "metadata": {},
     "output_type": "execute_result"
    }
   ],
   "source": [
    "len(df['name'].unique())"
   ]
  },
  {
   "cell_type": "code",
   "execution_count": 7,
   "metadata": {},
   "outputs": [],
   "source": [
    "df = df[df['title'].notnull()]"
   ]
  },
  {
   "cell_type": "code",
   "execution_count": 8,
   "metadata": {},
   "outputs": [
    {
     "data": {
      "text/plain": [
       "array(['A+', 'A', 'B', 'B+', 'B-', 'A-', 'C+'], dtype=object)"
      ]
     },
     "execution_count": 8,
     "metadata": {},
     "output_type": "execute_result"
    }
   ],
   "source": [
    "df['value'].unique()"
   ]
  },
  {
   "cell_type": "code",
   "execution_count": 9,
   "metadata": {},
   "outputs": [],
   "source": [
    "mapping = {'A+': 10,\n",
    "           'A': 9,\n",
    "           'A-': 8,\n",
    "           'B+': 7,\n",
    "           'B': 6,\n",
    "           'B-': 5,\n",
    "           'C+': 4}"
   ]
  },
  {
   "cell_type": "code",
   "execution_count": 10,
   "metadata": {},
   "outputs": [],
   "source": [
    "df['value'] = df['value'].map(mapping)"
   ]
  },
  {
   "cell_type": "code",
   "execution_count": 11,
   "metadata": {},
   "outputs": [],
   "source": [
    "df = df.pivot(index='name', columns='title', values='value')"
   ]
  },
  {
   "cell_type": "code",
   "execution_count": 12,
   "metadata": {},
   "outputs": [],
   "source": [
    "df['Total Score'] = df.sum(axis=1)"
   ]
  },
  {
   "cell_type": "code",
   "execution_count": 13,
   "metadata": {},
   "outputs": [
    {
     "data": {
      "text/html": [
       "<div>\n",
       "<style scoped>\n",
       "    .dataframe tbody tr th:only-of-type {\n",
       "        vertical-align: middle;\n",
       "    }\n",
       "\n",
       "    .dataframe tbody tr th {\n",
       "        vertical-align: top;\n",
       "    }\n",
       "\n",
       "    .dataframe thead th {\n",
       "        text-align: right;\n",
       "    }\n",
       "</style>\n",
       "<table border=\"1\" class=\"dataframe\">\n",
       "  <thead>\n",
       "    <tr style=\"text-align: right;\">\n",
       "      <th>title</th>\n",
       "      <th>Community Involvement</th>\n",
       "      <th>Employee Engagement &amp; Performance</th>\n",
       "      <th>Financial Benefits &amp; Compensation</th>\n",
       "      <th>Health &amp; Family-Friendly Benefits</th>\n",
       "      <th>Physical Workplace</th>\n",
       "      <th>Training &amp; Skills Development</th>\n",
       "      <th>Vacation &amp; Personal Time-Off</th>\n",
       "      <th>Work Atmosphere &amp; Communications</th>\n",
       "      <th>Total Score</th>\n",
       "    </tr>\n",
       "    <tr>\n",
       "      <th>name</th>\n",
       "      <th></th>\n",
       "      <th></th>\n",
       "      <th></th>\n",
       "      <th></th>\n",
       "      <th></th>\n",
       "      <th></th>\n",
       "      <th></th>\n",
       "      <th></th>\n",
       "      <th></th>\n",
       "    </tr>\n",
       "  </thead>\n",
       "  <tbody>\n",
       "    <tr>\n",
       "      <th>3M Canada Company</th>\n",
       "      <td>10</td>\n",
       "      <td>7</td>\n",
       "      <td>9</td>\n",
       "      <td>9</td>\n",
       "      <td>10</td>\n",
       "      <td>10</td>\n",
       "      <td>6</td>\n",
       "      <td>10</td>\n",
       "      <td>71</td>\n",
       "    </tr>\n",
       "    <tr>\n",
       "      <th>Aboriginal Peoples Television Network Inc. / APTN</th>\n",
       "      <td>7</td>\n",
       "      <td>6</td>\n",
       "      <td>7</td>\n",
       "      <td>9</td>\n",
       "      <td>7</td>\n",
       "      <td>9</td>\n",
       "      <td>9</td>\n",
       "      <td>9</td>\n",
       "      <td>63</td>\n",
       "    </tr>\n",
       "    <tr>\n",
       "      <th>Accenture Inc.</th>\n",
       "      <td>9</td>\n",
       "      <td>9</td>\n",
       "      <td>7</td>\n",
       "      <td>9</td>\n",
       "      <td>9</td>\n",
       "      <td>9</td>\n",
       "      <td>6</td>\n",
       "      <td>7</td>\n",
       "      <td>65</td>\n",
       "    </tr>\n",
       "    <tr>\n",
       "      <th>Adobe Systems Canada Inc.</th>\n",
       "      <td>10</td>\n",
       "      <td>7</td>\n",
       "      <td>7</td>\n",
       "      <td>9</td>\n",
       "      <td>10</td>\n",
       "      <td>9</td>\n",
       "      <td>9</td>\n",
       "      <td>10</td>\n",
       "      <td>71</td>\n",
       "    </tr>\n",
       "    <tr>\n",
       "      <th>Agriculture Financial Services Corporation / AFSC</th>\n",
       "      <td>9</td>\n",
       "      <td>7</td>\n",
       "      <td>9</td>\n",
       "      <td>6</td>\n",
       "      <td>7</td>\n",
       "      <td>9</td>\n",
       "      <td>9</td>\n",
       "      <td>9</td>\n",
       "      <td>65</td>\n",
       "    </tr>\n",
       "  </tbody>\n",
       "</table>\n",
       "</div>"
      ],
      "text/plain": [
       "title                                              Community Involvement  \\\n",
       "name                                                                       \n",
       "3M Canada Company                                                     10   \n",
       "Aboriginal Peoples Television Network Inc. / APTN                      7   \n",
       "Accenture Inc.                                                         9   \n",
       "Adobe Systems Canada Inc.                                             10   \n",
       "Agriculture Financial Services Corporation / AFSC                      9   \n",
       "\n",
       "title                                              Employee Engagement & Performance  \\\n",
       "name                                                                                   \n",
       "3M Canada Company                                                                  7   \n",
       "Aboriginal Peoples Television Network Inc. / APTN                                  6   \n",
       "Accenture Inc.                                                                     9   \n",
       "Adobe Systems Canada Inc.                                                          7   \n",
       "Agriculture Financial Services Corporation / AFSC                                  7   \n",
       "\n",
       "title                                              Financial Benefits & Compensation  \\\n",
       "name                                                                                   \n",
       "3M Canada Company                                                                  9   \n",
       "Aboriginal Peoples Television Network Inc. / APTN                                  7   \n",
       "Accenture Inc.                                                                     7   \n",
       "Adobe Systems Canada Inc.                                                          7   \n",
       "Agriculture Financial Services Corporation / AFSC                                  9   \n",
       "\n",
       "title                                              Health & Family-Friendly Benefits  \\\n",
       "name                                                                                   \n",
       "3M Canada Company                                                                  9   \n",
       "Aboriginal Peoples Television Network Inc. / APTN                                  9   \n",
       "Accenture Inc.                                                                     9   \n",
       "Adobe Systems Canada Inc.                                                          9   \n",
       "Agriculture Financial Services Corporation / AFSC                                  6   \n",
       "\n",
       "title                                              Physical Workplace  \\\n",
       "name                                                                    \n",
       "3M Canada Company                                                  10   \n",
       "Aboriginal Peoples Television Network Inc. / APTN                   7   \n",
       "Accenture Inc.                                                      9   \n",
       "Adobe Systems Canada Inc.                                          10   \n",
       "Agriculture Financial Services Corporation / AFSC                   7   \n",
       "\n",
       "title                                              Training & Skills Development  \\\n",
       "name                                                                               \n",
       "3M Canada Company                                                             10   \n",
       "Aboriginal Peoples Television Network Inc. / APTN                              9   \n",
       "Accenture Inc.                                                                 9   \n",
       "Adobe Systems Canada Inc.                                                      9   \n",
       "Agriculture Financial Services Corporation / AFSC                              9   \n",
       "\n",
       "title                                              Vacation & Personal Time-Off  \\\n",
       "name                                                                              \n",
       "3M Canada Company                                                             6   \n",
       "Aboriginal Peoples Television Network Inc. / APTN                             9   \n",
       "Accenture Inc.                                                                6   \n",
       "Adobe Systems Canada Inc.                                                     9   \n",
       "Agriculture Financial Services Corporation / AFSC                             9   \n",
       "\n",
       "title                                              Work Atmosphere & Communications  \\\n",
       "name                                                                                  \n",
       "3M Canada Company                                                                10   \n",
       "Aboriginal Peoples Television Network Inc. / APTN                                 9   \n",
       "Accenture Inc.                                                                    7   \n",
       "Adobe Systems Canada Inc.                                                        10   \n",
       "Agriculture Financial Services Corporation / AFSC                                 9   \n",
       "\n",
       "title                                              Total Score  \n",
       "name                                                            \n",
       "3M Canada Company                                           71  \n",
       "Aboriginal Peoples Television Network Inc. / APTN           63  \n",
       "Accenture Inc.                                              65  \n",
       "Adobe Systems Canada Inc.                                   71  \n",
       "Agriculture Financial Services Corporation / AFSC           65  "
      ]
     },
     "execution_count": 13,
     "metadata": {},
     "output_type": "execute_result"
    }
   ],
   "source": [
    "df.head()"
   ]
  },
  {
   "cell_type": "code",
   "execution_count": 14,
   "metadata": {},
   "outputs": [],
   "source": [
    "from IPython.display import HTML, Javascript, display"
   ]
  },
  {
   "cell_type": "code",
   "execution_count": 15,
   "metadata": {},
   "outputs": [
    {
     "data": {
      "application/javascript": [
       "\n",
       "           window.companyData=[{\"name\":\"3M Canada Company\",\"Community Involvement\":10,\"Employee Engagement & Performance\":7,\"Financial Benefits & Compensation\":9,\"Health & Family-Friendly Benefits\":9,\"Physical Workplace\":10,\"Training & Skills Development\":10,\"Vacation & Personal Time-Off\":6,\"Work Atmosphere & Communications\":10,\"Total Score\":71},{\"name\":\"Aboriginal Peoples Television Network Inc. \\/ APTN\",\"Community Involvement\":7,\"Employee Engagement & Performance\":6,\"Financial Benefits & Compensation\":7,\"Health & Family-Friendly Benefits\":9,\"Physical Workplace\":7,\"Training & Skills Development\":9,\"Vacation & Personal Time-Off\":9,\"Work Atmosphere & Communications\":9,\"Total Score\":63},{\"name\":\"Accenture Inc.\",\"Community Involvement\":9,\"Employee Engagement & Performance\":9,\"Financial Benefits & Compensation\":7,\"Health & Family-Friendly Benefits\":9,\"Physical Workplace\":9,\"Training & Skills Development\":9,\"Vacation & Personal Time-Off\":6,\"Work Atmosphere & Communications\":7,\"Total Score\":65},{\"name\":\"Adobe Systems Canada Inc.\",\"Community Involvement\":10,\"Employee Engagement & Performance\":7,\"Financial Benefits & Compensation\":7,\"Health & Family-Friendly Benefits\":9,\"Physical Workplace\":10,\"Training & Skills Development\":9,\"Vacation & Personal Time-Off\":9,\"Work Atmosphere & Communications\":10,\"Total Score\":71},{\"name\":\"Agriculture Financial Services Corporation \\/ AFSC\",\"Community Involvement\":9,\"Employee Engagement & Performance\":7,\"Financial Benefits & Compensation\":9,\"Health & Family-Friendly Benefits\":6,\"Physical Workplace\":7,\"Training & Skills Development\":9,\"Vacation & Personal Time-Off\":9,\"Work Atmosphere & Communications\":9,\"Total Score\":65},{\"name\":\"Air Canada\",\"Community Involvement\":10,\"Employee Engagement & Performance\":7,\"Financial Benefits & Compensation\":9,\"Health & Family-Friendly Benefits\":7,\"Physical Workplace\":9,\"Training & Skills Development\":9,\"Vacation & Personal Time-Off\":4,\"Work Atmosphere & Communications\":6,\"Total Score\":61},{\"name\":\"Alberta Health Services \\/ AHS\",\"Community Involvement\":9,\"Employee Engagement & Performance\":9,\"Financial Benefits & Compensation\":9,\"Health & Family-Friendly Benefits\":7,\"Physical Workplace\":9,\"Training & Skills Development\":9,\"Vacation & Personal Time-Off\":9,\"Work Atmosphere & Communications\":6,\"Total Score\":67},{\"name\":\"ArcelorMittal Dofasco G.P.\",\"Community Involvement\":10,\"Employee Engagement & Performance\":7,\"Financial Benefits & Compensation\":7,\"Health & Family-Friendly Benefits\":6,\"Physical Workplace\":10,\"Training & Skills Development\":10,\"Vacation & Personal Time-Off\":5,\"Work Atmosphere & Communications\":10,\"Total Score\":65},{\"name\":\"BASF Canada Inc.\",\"Community Involvement\":9,\"Employee Engagement & Performance\":7,\"Financial Benefits & Compensation\":7,\"Health & Family-Friendly Benefits\":9,\"Physical Workplace\":7,\"Training & Skills Development\":10,\"Vacation & Personal Time-Off\":7,\"Work Atmosphere & Communications\":9,\"Total Score\":65},{\"name\":\"Bank of Canada\",\"Community Involvement\":9,\"Employee Engagement & Performance\":7,\"Financial Benefits & Compensation\":9,\"Health & Family-Friendly Benefits\":9,\"Physical Workplace\":10,\"Training & Skills Development\":10,\"Vacation & Personal Time-Off\":7,\"Work Atmosphere & Communications\":10,\"Total Score\":71},{\"name\":\"CWB National Leasing Inc.\",\"Community Involvement\":10,\"Employee Engagement & Performance\":10,\"Financial Benefits & Compensation\":7,\"Health & Family-Friendly Benefits\":7,\"Physical Workplace\":10,\"Training & Skills Development\":9,\"Vacation & Personal Time-Off\":7,\"Work Atmosphere & Communications\":9,\"Total Score\":69},{\"name\":\"Danone Canada\",\"Community Involvement\":7,\"Employee Engagement & Performance\":9,\"Financial Benefits & Compensation\":6,\"Health & Family-Friendly Benefits\":6,\"Physical Workplace\":9,\"Training & Skills Development\":7,\"Vacation & Personal Time-Off\":6,\"Work Atmosphere & Communications\":9,\"Total Score\":59},{\"name\":\"Desjardins Group \\/ Mouvement Desjardins\",\"Community Involvement\":10,\"Employee Engagement & Performance\":7,\"Financial Benefits & Compensation\":9,\"Health & Family-Friendly Benefits\":9,\"Physical Workplace\":9,\"Training & Skills Development\":9,\"Vacation & Personal Time-Off\":9,\"Work Atmosphere & Communications\":7,\"Total Score\":69},{\"name\":\"Diamond Schmitt Architects Inc.\",\"Community Involvement\":10,\"Employee Engagement & Performance\":6,\"Financial Benefits & Compensation\":6,\"Health & Family-Friendly Benefits\":7,\"Physical Workplace\":7,\"Training & Skills Development\":7,\"Vacation & Personal Time-Off\":9,\"Work Atmosphere & Communications\":9,\"Total Score\":61},{\"name\":\"Digital Extremes Ltd.\",\"Community Involvement\":10,\"Employee Engagement & Performance\":7,\"Financial Benefits & Compensation\":7,\"Health & Family-Friendly Benefits\":6,\"Physical Workplace\":10,\"Training & Skills Development\":10,\"Vacation & Personal Time-Off\":7,\"Work Atmosphere & Communications\":10,\"Total Score\":67},{\"name\":\"Modern Niagara Group Inc.\",\"Community Involvement\":10,\"Employee Engagement & Performance\":7,\"Financial Benefits & Compensation\":9,\"Health & Family-Friendly Benefits\":7,\"Physical Workplace\":7,\"Training & Skills Development\":7,\"Vacation & Personal Time-Off\":5,\"Work Atmosphere & Communications\":7,\"Total Score\":59},{\"name\":\"M\\u00e9decins Sans Fronti\\u00e8res \\/ Doctors Without Borders (MSF) Canada\",\"Community Involvement\":9,\"Employee Engagement & Performance\":9,\"Financial Benefits & Compensation\":6,\"Health & Family-Friendly Benefits\":7,\"Physical Workplace\":7,\"Training & Skills Development\":7,\"Vacation & Personal Time-Off\":10,\"Work Atmosphere & Communications\":9,\"Total Score\":64},{\"name\":\"NAV CANADA\",\"Community Involvement\":10,\"Employee Engagement & Performance\":6,\"Financial Benefits & Compensation\":9,\"Health & Family-Friendly Benefits\":6,\"Physical Workplace\":9,\"Training & Skills Development\":7,\"Vacation & Personal Time-Off\":6,\"Work Atmosphere & Communications\":9,\"Total Score\":62},{\"name\":\"Nutrien\",\"Community Involvement\":10,\"Employee Engagement & Performance\":7,\"Financial Benefits & Compensation\":7,\"Health & Family-Friendly Benefits\":6,\"Physical Workplace\":9,\"Training & Skills Development\":7,\"Vacation & Personal Time-Off\":6,\"Work Atmosphere & Communications\":7,\"Total Score\":59},{\"name\":\"PCL Construction\",\"Community Involvement\":10,\"Employee Engagement & Performance\":7,\"Financial Benefits & Compensation\":9,\"Health & Family-Friendly Benefits\":7,\"Physical Workplace\":10,\"Training & Skills Development\":10,\"Vacation & Personal Time-Off\":6,\"Work Atmosphere & Communications\":9,\"Total Score\":68},{\"name\":\"Pembina Pipeline Corporation\",\"Community Involvement\":10,\"Employee Engagement & Performance\":7,\"Financial Benefits & Compensation\":9,\"Health & Family-Friendly Benefits\":6,\"Physical Workplace\":10,\"Training & Skills Development\":10,\"Vacation & Personal Time-Off\":7,\"Work Atmosphere & Communications\":9,\"Total Score\":68},{\"name\":\"PepsiCo Canada\",\"Community Involvement\":10,\"Employee Engagement & Performance\":9,\"Financial Benefits & Compensation\":9,\"Health & Family-Friendly Benefits\":7,\"Physical Workplace\":7,\"Training & Skills Development\":10,\"Vacation & Personal Time-Off\":6,\"Work Atmosphere & Communications\":9,\"Total Score\":67},{\"name\":\"Procter & Gamble Inc.\",\"Community Involvement\":9,\"Employee Engagement & Performance\":6,\"Financial Benefits & Compensation\":7,\"Health & Family-Friendly Benefits\":9,\"Physical Workplace\":10,\"Training & Skills Development\":10,\"Vacation & Personal Time-Off\":7,\"Work Atmosphere & Communications\":9,\"Total Score\":67},{\"name\":\"R.F. Binnie & Associates Ltd.\",\"Community Involvement\":7,\"Employee Engagement & Performance\":9,\"Financial Benefits & Compensation\":7,\"Health & Family-Friendly Benefits\":7,\"Physical Workplace\":7,\"Training & Skills Development\":7,\"Vacation & Personal Time-Off\":5,\"Work Atmosphere & Communications\":9,\"Total Score\":58},{\"name\":\"RSA Canada Group\",\"Community Involvement\":9,\"Employee Engagement & Performance\":9,\"Financial Benefits & Compensation\":9,\"Health & Family-Friendly Benefits\":9,\"Physical Workplace\":9,\"Training & Skills Development\":10,\"Vacation & Personal Time-Off\":7,\"Work Atmosphere & Communications\":9,\"Total Score\":71},{\"name\":\"ResMed Halifax ULC\",\"Community Involvement\":7,\"Employee Engagement & Performance\":6,\"Financial Benefits & Compensation\":7,\"Health & Family-Friendly Benefits\":6,\"Physical Workplace\":7,\"Training & Skills Development\":7,\"Vacation & Personal Time-Off\":7,\"Work Atmosphere & Communications\":6,\"Total Score\":53},{\"name\":\"Rio Tinto\",\"Community Involvement\":7,\"Employee Engagement & Performance\":7,\"Financial Benefits & Compensation\":9,\"Health & Family-Friendly Benefits\":7,\"Physical Workplace\":9,\"Training & Skills Development\":9,\"Vacation & Personal Time-Off\":6,\"Work Atmosphere & Communications\":9,\"Total Score\":63},{\"name\":\"Rogers Communications Inc.\",\"Community Involvement\":10,\"Employee Engagement & Performance\":9,\"Financial Benefits & Compensation\":9,\"Health & Family-Friendly Benefits\":7,\"Physical Workplace\":10,\"Training & Skills Development\":9,\"Vacation & Personal Time-Off\":5,\"Work Atmosphere & Communications\":9,\"Total Score\":68},{\"name\":\"Royal Bank of Canada\",\"Community Involvement\":10,\"Employee Engagement & Performance\":9,\"Financial Benefits & Compensation\":10,\"Health & Family-Friendly Benefits\":7,\"Physical Workplace\":9,\"Training & Skills Development\":9,\"Vacation & Personal Time-Off\":6,\"Work Atmosphere & Communications\":9,\"Total Score\":69},{\"name\":\"Salesforce\",\"Community Involvement\":9,\"Employee Engagement & Performance\":7,\"Financial Benefits & Compensation\":7,\"Health & Family-Friendly Benefits\":9,\"Physical Workplace\":9,\"Training & Skills Development\":7,\"Vacation & Personal Time-Off\":7,\"Work Atmosphere & Communications\":7,\"Total Score\":62},{\"name\":\"Samsung Electronics Canada Inc.\",\"Community Involvement\":10,\"Employee Engagement & Performance\":7,\"Financial Benefits & Compensation\":7,\"Health & Family-Friendly Benefits\":7,\"Physical Workplace\":10,\"Training & Skills Development\":10,\"Vacation & Personal Time-Off\":7,\"Work Atmosphere & Communications\":9,\"Total Score\":67},{\"name\":\"SaskTel\",\"Community Involvement\":10,\"Employee Engagement & Performance\":10,\"Financial Benefits & Compensation\":9,\"Health & Family-Friendly Benefits\":9,\"Physical Workplace\":9,\"Training & Skills Development\":10,\"Vacation & Personal Time-Off\":7,\"Work Atmosphere & Communications\":10,\"Total Score\":74},{\"name\":\"Schneider Electric Canada Inc.\",\"Community Involvement\":10,\"Employee Engagement & Performance\":10,\"Financial Benefits & Compensation\":10,\"Health & Family-Friendly Benefits\":7,\"Physical Workplace\":10,\"Training & Skills Development\":9,\"Vacation & Personal Time-Off\":10,\"Work Atmosphere & Communications\":9,\"Total Score\":75},{\"name\":\"Sekisui Diagnostics PEI Ltd.\",\"Community Involvement\":9,\"Employee Engagement & Performance\":9,\"Financial Benefits & Compensation\":6,\"Health & Family-Friendly Benefits\":7,\"Physical Workplace\":7,\"Training & Skills Development\":7,\"Vacation & Personal Time-Off\":7,\"Work Atmosphere & Communications\":9,\"Total Score\":61},{\"name\":\"Shopify Inc.\",\"Community Involvement\":7,\"Employee Engagement & Performance\":10,\"Financial Benefits & Compensation\":7,\"Health & Family-Friendly Benefits\":9,\"Physical Workplace\":10,\"Training & Skills Development\":10,\"Vacation & Personal Time-Off\":10,\"Work Atmosphere & Communications\":7,\"Total Score\":70},{\"name\":\"Simon Fraser University\",\"Community Involvement\":6,\"Employee Engagement & Performance\":4,\"Financial Benefits & Compensation\":9,\"Health & Family-Friendly Benefits\":10,\"Physical Workplace\":10,\"Training & Skills Development\":10,\"Vacation & Personal Time-Off\":10,\"Work Atmosphere & Communications\":7,\"Total Score\":66},{\"name\":\"Stryker Canada ULC\",\"Community Involvement\":10,\"Employee Engagement & Performance\":10,\"Financial Benefits & Compensation\":7,\"Health & Family-Friendly Benefits\":9,\"Physical Workplace\":9,\"Training & Skills Development\":9,\"Vacation & Personal Time-Off\":6,\"Work Atmosphere & Communications\":7,\"Total Score\":67},{\"name\":\"Suncor Energy Inc.\",\"Community Involvement\":10,\"Employee Engagement & Performance\":7,\"Financial Benefits & Compensation\":9,\"Health & Family-Friendly Benefits\":7,\"Physical Workplace\":9,\"Training & Skills Development\":7,\"Vacation & Personal Time-Off\":7,\"Work Atmosphere & Communications\":7,\"Total Score\":63},{\"name\":\"TD Bank Group\",\"Community Involvement\":10,\"Employee Engagement & Performance\":10,\"Financial Benefits & Compensation\":10,\"Health & Family-Friendly Benefits\":9,\"Physical Workplace\":7,\"Training & Skills Development\":10,\"Vacation & Personal Time-Off\":6,\"Work Atmosphere & Communications\":9,\"Total Score\":71},{\"name\":\"TELUS Communications Inc.\",\"Community Involvement\":10,\"Employee Engagement & Performance\":9,\"Financial Benefits & Compensation\":7,\"Health & Family-Friendly Benefits\":6,\"Physical Workplace\":10,\"Training & Skills Development\":10,\"Vacation & Personal Time-Off\":7,\"Work Atmosphere & Communications\":7,\"Total Score\":66},{\"name\":\"Teck Resources Limited\",\"Community Involvement\":10,\"Employee Engagement & Performance\":6,\"Financial Benefits & Compensation\":9,\"Health & Family-Friendly Benefits\":9,\"Physical Workplace\":9,\"Training & Skills Development\":7,\"Vacation & Personal Time-Off\":7,\"Work Atmosphere & Communications\":7,\"Total Score\":64},{\"name\":\"Thomson Reuters Canada Limited\",\"Community Involvement\":10,\"Employee Engagement & Performance\":7,\"Financial Benefits & Compensation\":9,\"Health & Family-Friendly Benefits\":7,\"Physical Workplace\":7,\"Training & Skills Development\":10,\"Vacation & Personal Time-Off\":6,\"Work Atmosphere & Communications\":9,\"Total Score\":65},{\"name\":\"Toronto, City of\",\"Community Involvement\":7,\"Employee Engagement & Performance\":7,\"Financial Benefits & Compensation\":9,\"Health & Family-Friendly Benefits\":9,\"Physical Workplace\":9,\"Training & Skills Development\":9,\"Vacation & Personal Time-Off\":6,\"Work Atmosphere & Communications\":7,\"Total Score\":63},{\"name\":\"Toyota Motor Manufacturing Canada Inc. \\/ TMMC\",\"Community Involvement\":10,\"Employee Engagement & Performance\":10,\"Financial Benefits & Compensation\":7,\"Health & Family-Friendly Benefits\":9,\"Physical Workplace\":10,\"Training & Skills Development\":10,\"Vacation & Personal Time-Off\":9,\"Work Atmosphere & Communications\":9,\"Total Score\":74},{\"name\":\"University of New Brunswick \\/ UNB\",\"Community Involvement\":7,\"Employee Engagement & Performance\":9,\"Financial Benefits & Compensation\":9,\"Health & Family-Friendly Benefits\":9,\"Physical Workplace\":10,\"Training & Skills Development\":10,\"Vacation & Personal Time-Off\":6,\"Work Atmosphere & Communications\":7,\"Total Score\":67},{\"name\":\"University of Toronto\",\"Community Involvement\":9,\"Employee Engagement & Performance\":9,\"Financial Benefits & Compensation\":9,\"Health & Family-Friendly Benefits\":9,\"Physical Workplace\":10,\"Training & Skills Development\":10,\"Vacation & Personal Time-Off\":9,\"Work Atmosphere & Communications\":7,\"Total Score\":72},{\"name\":\"Universit\\u00e9 de Montr\\u00e9al\",\"Community Involvement\":7,\"Employee Engagement & Performance\":5,\"Financial Benefits & Compensation\":9,\"Health & Family-Friendly Benefits\":10,\"Physical Workplace\":10,\"Training & Skills Development\":10,\"Vacation & Personal Time-Off\":10,\"Work Atmosphere & Communications\":7,\"Total Score\":68},{\"name\":\"Verafin Inc.\",\"Community Involvement\":9,\"Employee Engagement & Performance\":7,\"Financial Benefits & Compensation\":7,\"Health & Family-Friendly Benefits\":7,\"Physical Workplace\":7,\"Training & Skills Development\":9,\"Vacation & Personal Time-Off\":10,\"Work Atmosphere & Communications\":10,\"Total Score\":66},{\"name\":\"West Fraser Timber Co. Ltd.\",\"Community Involvement\":7,\"Employee Engagement & Performance\":6,\"Financial Benefits & Compensation\":9,\"Health & Family-Friendly Benefits\":6,\"Physical Workplace\":9,\"Training & Skills Development\":7,\"Vacation & Personal Time-Off\":7,\"Work Atmosphere & Communications\":7,\"Total Score\":58},{\"name\":\"World Vision Canada\",\"Community Involvement\":10,\"Employee Engagement & Performance\":7,\"Financial Benefits & Compensation\":7,\"Health & Family-Friendly Benefits\":9,\"Physical Workplace\":7,\"Training & Skills Development\":9,\"Vacation & Personal Time-Off\":8,\"Work Atmosphere & Communications\":7,\"Total Score\":64},{\"name\":\"Xerox Canada Ltd.\",\"Community Involvement\":9,\"Employee Engagement & Performance\":9,\"Financial Benefits & Compensation\":7,\"Health & Family-Friendly Benefits\":7,\"Physical Workplace\":10,\"Training & Skills Development\":10,\"Vacation & Personal Time-Off\":5,\"Work Atmosphere & Communications\":9,\"Total Score\":66},{\"name\":\"Yukon, Government of\",\"Community Involvement\":7,\"Employee Engagement & Performance\":6,\"Financial Benefits & Compensation\":9,\"Health & Family-Friendly Benefits\":10,\"Physical Workplace\":6,\"Training & Skills Development\":7,\"Vacation & Personal Time-Off\":10,\"Work Atmosphere & Communications\":7,\"Total Score\":62}];\n",
       "           "
      ],
      "text/plain": [
       "<IPython.core.display.Javascript object>"
      ]
     },
     "execution_count": 15,
     "metadata": {},
     "output_type": "execute_result"
    }
   ],
   "source": [
    "Javascript(\"\"\"\n",
    "           window.companyData={};\n",
    "           \"\"\".format(df.reset_index().to_json(orient='records')))"
   ]
  },
  {
   "cell_type": "code",
   "execution_count": 16,
   "metadata": {},
   "outputs": [],
   "source": [
    "# Write to JSON file on disk\n",
    "# df.reset_index().to_json('canadastop100.json', orient='records')"
   ]
  },
  {
   "cell_type": "markdown",
   "metadata": {},
   "source": [
    "## Visualizing data"
   ]
  },
  {
   "cell_type": "markdown",
   "metadata": {},
   "source": [
    "VueJS can be included from https://cdn.jsdelivr.net/npm/vue@2.x/dist/vue.js. This notebook will make use of the example of the [grid-component](https://vuejs.org/v2/examples/grid-component.html) from the official documentation to create a table representing the crawled data."
   ]
  },
  {
   "cell_type": "code",
   "execution_count": 17,
   "metadata": {},
   "outputs": [
    {
     "data": {
      "application/javascript": [
       "require.config({\n",
       "    paths: {\n",
       "        vue: \"https://cdn.jsdelivr.net/npm/vue@2.x/dist/vue\",\n",
       "        vuetify: \"https://cdn.jsdelivr.net/npm/vuetify@2.x/dist/vuetify\"\n",
       "    }\n",
       "});\n"
      ],
      "text/plain": [
       "<IPython.core.display.Javascript object>"
      ]
     },
     "metadata": {},
     "output_type": "display_data"
    }
   ],
   "source": [
    "%%javascript\n",
    "require.config({\n",
    "    paths: {\n",
    "        vue: \"https://cdn.jsdelivr.net/npm/vue@2.x/dist/vue\",\n",
    "        vuetify: \"https://cdn.jsdelivr.net/npm/vuetify@2.x/dist/vuetify\"\n",
    "    }\n",
    "});"
   ]
  },
  {
   "cell_type": "code",
   "execution_count": 18,
   "metadata": {},
   "outputs": [
    {
     "data": {
      "text/html": [
       "<script type=\"text/x-template\" id=\"data-template\">\n",
       "  <table class=\"canada\">\n",
       "    <thead>\n",
       "      <tr>\n",
       "        <th v-for=\"key in columns\"\n",
       "          @click=\"sortBy(key)\"\n",
       "          :class=\"{ active: sortKey == key }\">\n",
       "          {{ key | capitalize }}\n",
       "          <span class=\"arrow\" :class=\"sortOrders[key] > 0 ? 'asc' : 'dsc'\">\n",
       "          </span>\n",
       "        </th>\n",
       "      </tr>\n",
       "    </thead>\n",
       "    <tbody>\n",
       "      <tr v-for=\"entry in filteredData\">\n",
       "        <td v-for=\"key in columns\">\n",
       "          {{entry[key]}}\n",
       "        </td>\n",
       "      </tr>\n",
       "    </tbody>\n",
       "  </table>\n",
       "</script>\n"
      ],
      "text/plain": [
       "<IPython.core.display.HTML object>"
      ]
     },
     "metadata": {},
     "output_type": "display_data"
    }
   ],
   "source": [
    "%%html\n",
    "<script type=\"text/x-template\" id=\"data-template\">\n",
    "  <table class=\"canada\">\n",
    "    <thead>\n",
    "      <tr>\n",
    "        <th v-for=\"key in columns\"\n",
    "          @click=\"sortBy(key)\"\n",
    "          :class=\"{ active: sortKey == key }\">\n",
    "          {{ key | capitalize }}\n",
    "          <span class=\"arrow\" :class=\"sortOrders[key] > 0 ? 'asc' : 'dsc'\">\n",
    "          </span>\n",
    "        </th>\n",
    "      </tr>\n",
    "    </thead>\n",
    "    <tbody>\n",
    "      <tr v-for=\"entry in filteredData\">\n",
    "        <td v-for=\"key in columns\">\n",
    "          {{entry[key]}}\n",
    "        </td>\n",
    "      </tr>\n",
    "    </tbody>\n",
    "  </table>\n",
    "</script>"
   ]
  },
  {
   "cell_type": "code",
   "execution_count": 23,
   "metadata": {},
   "outputs": [
    {
     "data": {
      "text/html": [
       "<div id=\"vue-app\">\n",
       "  <v-app name=\"main-app\">\n",
       "    <v-content name=\"main-content\">\n",
       "      <v-container>\n",
       "        <v-icon v-text=\"'$vuetify.icons.support'\"></v-icon>\n",
       "        <v-icon v-text=\"'$support'\"></v-icon>\n",
       "        <form id=\"search\">\n",
       "          Search <input name=\"query\" v-model=\"searchQuery\">\n",
       "        </form>\n",
       "        <data-grid\n",
       "          :data=\"gridData\"\n",
       "          :columns=\"gridColumns\"\n",
       "          :filter-key=\"searchQuery\">\n",
       "        </data-grid>\n",
       "      </v-container>\n",
       "    </v-content\n",
       "  </v-app>\n",
       "</div>\n"
      ],
      "text/plain": [
       "<IPython.core.display.HTML object>"
      ]
     },
     "metadata": {},
     "output_type": "display_data"
    }
   ],
   "source": [
    "%%html\n",
    "<div id=\"vue-app\">\n",
    "  <v-app name=\"main-app\">\n",
    "    <v-content name=\"main-content\">\n",
    "      <v-container>\n",
    "        <v-icon v-text=\"'$vuetify.icons.support'\"></v-icon>\n",
    "        <v-icon v-text=\"'$support'\"></v-icon>\n",
    "        <form id=\"search\">\n",
    "          Search <input name=\"query\" v-model=\"searchQuery\">\n",
    "        </form>\n",
    "        <data-grid\n",
    "          :data=\"gridData\"\n",
    "          :columns=\"gridColumns\"\n",
    "          :filter-key=\"searchQuery\">\n",
    "        </data-grid>\n",
    "      </v-container>\n",
    "    </v-content\n",
    "  </v-app>\n",
    "</div>"
   ]
  },
  {
   "cell_type": "code",
   "execution_count": 24,
   "metadata": {},
   "outputs": [
    {
     "data": {
      "application/javascript": [
       "require(['vue', 'vuetify'], function(Vue, Vuetify) {\n",
       "    console.log(Vue.version);\n",
       "    var companyData = window.companyData;\n",
       "    console.log(JSON.stringify(companyData));\n",
       "    // Verify Vuetify is loaded\n",
       "    console.log(Vuetify.version);\n",
       "    Vue.component('data-grid', {\n",
       "      template: '#data-template',\n",
       "      props: {\n",
       "        data: Array,\n",
       "        columns: Array,\n",
       "        filterKey: String\n",
       "      },\n",
       "      data: function () {\n",
       "        var sortOrders = {}\n",
       "        this.columns.forEach(function (key) {\n",
       "          sortOrders[key] = 1\n",
       "        })\n",
       "        return {\n",
       "          sortKey: '',\n",
       "          sortOrders: sortOrders\n",
       "        }\n",
       "      },\n",
       "      computed: {\n",
       "        filteredData: function () {\n",
       "          var sortKey = this.sortKey\n",
       "          var filterKey = this.filterKey && this.filterKey.toLowerCase()\n",
       "          var order = this.sortOrders[sortKey] || 1\n",
       "          var data = this.data\n",
       "          if (filterKey) {\n",
       "            data = data.filter(function (row) {\n",
       "              return Object.keys(row).some(function (key) {\n",
       "                return String(row[key]).toLowerCase().indexOf(filterKey) > -1\n",
       "              })\n",
       "            })\n",
       "          }\n",
       "          if (sortKey) {\n",
       "            data = data.slice().sort(function (a, b) {\n",
       "              a = a[sortKey]\n",
       "              b = b[sortKey]\n",
       "              return (a === b ? 0 : a > b ? 1 : -1) * order\n",
       "            })\n",
       "          }\n",
       "          return data\n",
       "        }\n",
       "      },\n",
       "      filters: {\n",
       "        capitalize: function (str) {\n",
       "          return str.charAt(0).toUpperCase() + str.slice(1)\n",
       "        }\n",
       "      },\n",
       "      methods: {\n",
       "        sortBy: function (key) {\n",
       "          this.sortKey = key\n",
       "          this.sortOrders[key] = this.sortOrders[key] * -1\n",
       "        }\n",
       "      }\n",
       "    })\n",
       "\n",
       "    var vueApp = new Vue({\n",
       "      el: '#vue-app',\n",
       "      vuetify: new Vuetify({\n",
       "          icons: {\n",
       "            iconfont: 'mdiSvg', // 'mdi' || 'mdiSvg' || 'md' || 'fa' || 'fa4' || 'faSvg'\n",
       "          },\n",
       "        }),\n",
       "      data: {\n",
       "        searchQuery: '',\n",
       "        gridColumns: Object.keys(companyData[0]),\n",
       "        gridData: companyData\n",
       "      }\n",
       "    })\n",
       "  \n",
       "});\n"
      ],
      "text/plain": [
       "<IPython.core.display.Javascript object>"
      ]
     },
     "metadata": {},
     "output_type": "display_data"
    }
   ],
   "source": [
    "%%javascript\n",
    "require(['vue', 'vuetify'], function(Vue, Vuetify) {\n",
    "    console.log(Vue.version);\n",
    "    var companyData = window.companyData;\n",
    "    console.log(JSON.stringify(companyData));\n",
    "    // Verify Vuetify is loaded\n",
    "    console.log(Vuetify.version);\n",
    "    Vue.component('data-grid', {\n",
    "      template: '#data-template',\n",
    "      props: {\n",
    "        data: Array,\n",
    "        columns: Array,\n",
    "        filterKey: String\n",
    "      },\n",
    "      data: function () {\n",
    "        var sortOrders = {}\n",
    "        this.columns.forEach(function (key) {\n",
    "          sortOrders[key] = 1\n",
    "        })\n",
    "        return {\n",
    "          sortKey: '',\n",
    "          sortOrders: sortOrders\n",
    "        }\n",
    "      },\n",
    "      computed: {\n",
    "        filteredData: function () {\n",
    "          var sortKey = this.sortKey\n",
    "          var filterKey = this.filterKey && this.filterKey.toLowerCase()\n",
    "          var order = this.sortOrders[sortKey] || 1\n",
    "          var data = this.data\n",
    "          if (filterKey) {\n",
    "            data = data.filter(function (row) {\n",
    "              return Object.keys(row).some(function (key) {\n",
    "                return String(row[key]).toLowerCase().indexOf(filterKey) > -1\n",
    "              })\n",
    "            })\n",
    "          }\n",
    "          if (sortKey) {\n",
    "            data = data.slice().sort(function (a, b) {\n",
    "              a = a[sortKey]\n",
    "              b = b[sortKey]\n",
    "              return (a === b ? 0 : a > b ? 1 : -1) * order\n",
    "            })\n",
    "          }\n",
    "          return data\n",
    "        }\n",
    "      },\n",
    "      filters: {\n",
    "        capitalize: function (str) {\n",
    "          return str.charAt(0).toUpperCase() + str.slice(1)\n",
    "        }\n",
    "      },\n",
    "      methods: {\n",
    "        sortBy: function (key) {\n",
    "          this.sortKey = key\n",
    "          this.sortOrders[key] = this.sortOrders[key] * -1\n",
    "        }\n",
    "      }\n",
    "    })\n",
    "\n",
    "    var vueApp = new Vue({\n",
    "      el: '#vue-app',\n",
    "      vuetify: new Vuetify({\n",
    "          icons: {\n",
    "            iconfont: 'mdiSvg', // 'mdi' || 'mdiSvg' || 'md' || 'fa' || 'fa4' || 'faSvg'\n",
    "          },\n",
    "        }),\n",
    "      data: {\n",
    "        searchQuery: '',\n",
    "        gridColumns: Object.keys(companyData[0]),\n",
    "        gridData: companyData\n",
    "      }\n",
    "    })\n",
    "  \n",
    "});"
   ]
  },
  {
   "cell_type": "code",
   "execution_count": 25,
   "metadata": {},
   "outputs": [
    {
     "data": {
      "text/html": [
       "<style>\n",
       "@import url(\"https://fonts.googleapis.com/css?family=Roboto:100,300,400,500,700,900\");\n",
       "@import url(\"https://cdn.jsdelivr.net/npm/@mdi/font@4.x/css/materialdesignicons.min.css\");\n",
       "@import url(\"https://cdn.jsdelivr.net/npm/vuetify@2.x/dist/vuetify.min.css\");\n",
       "\n",
       "table.canada {\n",
       "  border: 2px solid rgb(102, 153, 255);\n",
       "  border-radius: 3px;\n",
       "  background-color: #fff;\n",
       "}\n",
       "\n",
       "table.canada th {\n",
       "  background-color: rgb(102, 153, 255);\n",
       "  color: rgba(255,255,255,0.66);\n",
       "  cursor: pointer;\n",
       "  -webkit-user-select: none;\n",
       "  -moz-user-select: none;\n",
       "  -ms-user-select: none;\n",
       "  user-select: none;\n",
       "}\n",
       "\n",
       "table.canada td {\n",
       "  background-color: #f9f9f9;\n",
       "}\n",
       "\n",
       "table.canada th, table.canada td {\n",
       "  min-width: 120px;\n",
       "  padding: 10px 20px;\n",
       "}\n",
       "\n",
       "table.canada th.active {\n",
       "  color: #fff;\n",
       "}\n",
       "\n",
       "table.canada th.active .arrow {\n",
       "  opacity: 1;\n",
       "}\n",
       "\n",
       ".arrow {\n",
       "  display: inline-block;\n",
       "  vertical-align: middle;\n",
       "  width: 0;\n",
       "  height: 0;\n",
       "  margin-left: 5px;\n",
       "  opacity: 0.66;\n",
       "}\n",
       "\n",
       ".arrow.asc {\n",
       "  border-left: 4px solid transparent;\n",
       "  border-right: 4px solid transparent;\n",
       "  border-bottom: 4px solid #fff;\n",
       "}\n",
       "\n",
       ".arrow.dsc {\n",
       "  border-left: 4px solid transparent;\n",
       "  border-right: 4px solid transparent;\n",
       "  border-top: 4px solid #fff;\n",
       "}\n",
       "</style>\n"
      ],
      "text/plain": [
       "<IPython.core.display.HTML object>"
      ]
     },
     "metadata": {},
     "output_type": "display_data"
    }
   ],
   "source": [
    "%%html\n",
    "<style>\n",
    "@import url(\"https://fonts.googleapis.com/css?family=Roboto:100,300,400,500,700,900\");\n",
    "@import url(\"https://cdn.jsdelivr.net/npm/@mdi/font@4.x/css/materialdesignicons.min.css\");\n",
    "@import url(\"https://cdn.jsdelivr.net/npm/vuetify@2.x/dist/vuetify.min.css\");\n",
    "\n",
    "table.canada {\n",
    "  border: 2px solid rgb(102, 153, 255);\n",
    "  border-radius: 3px;\n",
    "  background-color: #fff;\n",
    "}\n",
    "\n",
    "table.canada th {\n",
    "  background-color: rgb(102, 153, 255);\n",
    "  color: rgba(255,255,255,0.66);\n",
    "  cursor: pointer;\n",
    "  -webkit-user-select: none;\n",
    "  -moz-user-select: none;\n",
    "  -ms-user-select: none;\n",
    "  user-select: none;\n",
    "}\n",
    "\n",
    "table.canada td {\n",
    "  background-color: #f9f9f9;\n",
    "}\n",
    "\n",
    "table.canada th, table.canada td {\n",
    "  min-width: 120px;\n",
    "  padding: 10px 20px;\n",
    "}\n",
    "\n",
    "table.canada th.active {\n",
    "  color: #fff;\n",
    "}\n",
    "\n",
    "table.canada th.active .arrow {\n",
    "  opacity: 1;\n",
    "}\n",
    "\n",
    ".arrow {\n",
    "  display: inline-block;\n",
    "  vertical-align: middle;\n",
    "  width: 0;\n",
    "  height: 0;\n",
    "  margin-left: 5px;\n",
    "  opacity: 0.66;\n",
    "}\n",
    "\n",
    ".arrow.asc {\n",
    "  border-left: 4px solid transparent;\n",
    "  border-right: 4px solid transparent;\n",
    "  border-bottom: 4px solid #fff;\n",
    "}\n",
    "\n",
    ".arrow.dsc {\n",
    "  border-left: 4px solid transparent;\n",
    "  border-right: 4px solid transparent;\n",
    "  border-top: 4px solid #fff;\n",
    "}\n",
    "</style>"
   ]
  },
  {
   "cell_type": "markdown",
   "metadata": {
    "collapsed": true
   },
   "source": [
    "https://jsfiddle.net/jitsejan/rxxjhgf6"
   ]
  }
 ],
 "metadata": {
  "kernelspec": {
   "display_name": "Python 3",
   "language": "python",
   "name": "python3"
  },
  "language_info": {
   "codemirror_mode": {
    "name": "ipython",
    "version": 3
   },
   "file_extension": ".py",
   "mimetype": "text/x-python",
   "name": "python",
   "nbconvert_exporter": "python",
   "pygments_lexer": "ipython3",
   "version": "3.7.3"
  }
 },
 "nbformat": 4,
 "nbformat_minor": 2
}
