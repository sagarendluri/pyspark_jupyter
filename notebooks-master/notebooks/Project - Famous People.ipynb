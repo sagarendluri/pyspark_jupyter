{
 "cells": [
  {
   "cell_type": "code",
   "execution_count": 7,
   "metadata": {
    "collapsed": true
   },
   "outputs": [],
   "source": [
    "import lxml.html\n",
    "import numpy as np\n",
    "import pandas as pd\n",
    "import re\n",
    "import requests\n",
    "import html"
   ]
  },
  {
   "cell_type": "code",
   "execution_count": 8,
   "metadata": {
    "collapsed": true
   },
   "outputs": [],
   "source": [
    "def get_people(people, tree, occupation):\n",
    "    \"\"\" Retrieve the people using cssselect \"\"\"\n",
    "    for element in tree.cssselect('div[class*=\\'tile\\']'):\n",
    "        try:\n",
    "            person = {}\n",
    "            person['name'] = element.cssselect('a img')[0].get('title').strip()\n",
    "            if person['name'] in people.keys():\n",
    "                people[person['name']]['occupation'] = people[person['name']]['occupation'] + \",\"+occupation\n",
    "            else:\n",
    "                person['link'] = 'http://'+element.cssselect('a')[0].get('href')[2:]\n",
    "                # All person links have 'www'. Other links do not\n",
    "                if 'www' not in person['link']:\n",
    "                    break\n",
    "                person['occupation'] = occupation\n",
    "                person['image'] = element.cssselect('a img')[0].get('src')\n",
    "                people[person['name']] = person\n",
    "        except:\n",
    "            pass\n",
    "    return people"
   ]
  },
  {
   "cell_type": "code",
   "execution_count": 10,
   "metadata": {},
   "outputs": [
    {
     "name": "stdout",
     "output_type": "stream",
     "text": [
      "Found 693 persons!\n"
     ]
    }
   ],
   "source": [
    "FAM_PPL_URL = \"http://www.thefamouspeople.com/writers.php\"\n",
    "people = {}\n",
    "for i in range(1,8):\n",
    "    link = FAM_PPL_URL+\"?page=%s\" % i\n",
    "    resp = requests.get(link)\n",
    "    if resp.status_code != 200:\n",
    "        raise Exception('GET '+link+' {}'.format(resp.status_code))\n",
    "    tree = lxml.html.fromstring(resp.content)\n",
    "    people = get_people(people, tree, 'author')\n",
    "print('Found %s persons!' % len(people))"
   ]
  },
  {
   "cell_type": "code",
   "execution_count": null,
   "metadata": {
    "collapsed": true
   },
   "outputs": [],
   "source": [
    "%%time\n",
    "for elem in people:\n",
    "    person = people[elem]\n",
    "    try:\n",
    "        tree = common.get_tree_from_url(person['link'])\n",
    "        try:\n",
    "            person['image'] = tree.cssselect('div[class*=\\'fps-img\\'] img')[0].get('src')\n",
    "        except:\n",
    "            print(person['link'])\n",
    "            break\n",
    "        try:\n",
    "            person['description'] = tree.cssselect('p[class*=\\'main_introduction_right\\']')[0].text_content().strip()\n",
    "        except:\n",
    "            pass\n",
    "        content = str(lxml.html.tostring(tree.cssselect('div[class*=\\'fps-desc\\']')[0]))\n",
    "        content = re.sub('<a[^<]+?>', '', content.replace('\\\\r\\\\\\n', '').replace('  ', ' ').replace('</a>', '').replace('<span>', '').replace('</span>', ''))\n",
    "        for result in re.findall('<div class=\"quick_left\">(.*?)<\\/div>.*?<div class=\"quick_right\">(.*?)<\\/div>', content):\n",
    "            key = result[0].strip().strip(\"\\n\")\n",
    "            value = html.unescape(result[1].strip().strip('\\n'))\n",
    "            person[key] = value\n",
    "    except:\n",
    "        print(\"Retrieval failed for\", person['name'])"
   ]
  }
 ],
 "metadata": {
  "kernelspec": {
   "display_name": "Python 3",
   "language": "python",
   "name": "python3"
  },
  "language_info": {
   "codemirror_mode": {
    "name": "ipython",
    "version": 3
   },
   "file_extension": ".py",
   "mimetype": "text/x-python",
   "name": "python",
   "nbconvert_exporter": "python",
   "pygments_lexer": "ipython3",
   "version": "3.6.1"
  }
 },
 "nbformat": 4,
 "nbformat_minor": 2
}
